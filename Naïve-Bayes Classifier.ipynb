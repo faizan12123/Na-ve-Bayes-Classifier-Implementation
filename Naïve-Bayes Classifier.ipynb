{
 "cells": [
  {
   "cell_type": "code",
   "execution_count": 2,
   "id": "f71bf5ff",
   "metadata": {},
   "outputs": [],
   "source": [
    "# The objective:\n",
    "    \n",
    "# Implement a Naïve-Bayes classifier that trains the following two cases"
   ]
  },
  {
   "cell_type": "code",
   "execution_count": 3,
   "id": "8eaae430",
   "metadata": {},
   "outputs": [],
   "source": [
    "#CASE 1 (refer to github readMe for instructions)"
   ]
  },
  {
   "cell_type": "code",
   "execution_count": 4,
   "id": "6a82ae2a",
   "metadata": {},
   "outputs": [],
   "source": [
    "color=['red','blue','green','blue','blue','blue','red','green','green','blue','blue','red' ]\n",
    "       \n",
    "shape=['square','circle','square','square','square','circle','square','circle','square','circle','square','square']\n",
    "       \n",
    "label=['plus','plus','plus','minus','minus','plus','plus','minus','plus','minus','plus','minus']"
   ]
  },
  {
   "cell_type": "code",
   "execution_count": 5,
   "id": "b5389bcb",
   "metadata": {},
   "outputs": [
    {
     "name": "stdout",
     "output_type": "stream",
     "text": [
      "Colors Encoded: [2 0 1 0 0 0 2 1 1 0 0 2]\n",
      "Shapes Encoded: [1 0 1 1 1 0 1 0 1 0 1 1]\n",
      "Labels Encoded: [1 1 1 0 0 1 1 0 1 0 1 0]\n",
      "combined features in tuples: [(2, 1), (0, 0), (1, 1), (0, 1), (0, 1), (0, 0), (2, 1), (1, 0), (1, 1), (0, 0), (0, 1), (2, 1)]\n"
     ]
    }
   ],
   "source": [
    "from sklearn import preprocessing\n",
    "from sklearn.preprocessing import LabelEncoder\n",
    "\n",
    "encoder = preprocessing.LabelEncoder()\n",
    "\n",
    "colorEncoded = encoder.fit_transform(color)\n",
    "print(f\"Colors Encoded: {colorEncoded}\")\n",
    "shapeEncoded = encoder.fit_transform(shape)\n",
    "print(f\"Shapes Encoded: {shapeEncoded}\")\n",
    "labelEncoded = encoder.fit_transform(label)\n",
    "print(f\"Labels Encoded: {labelEncoded}\")\n",
    "\n",
    "combinedFeatures = list(zip(colorEncoded, shapeEncoded))\n",
    "print(f\"combined features in tuples: {combinedFeatures}\")"
   ]
  },
  {
   "cell_type": "code",
   "execution_count": 6,
   "id": "66cc99b3",
   "metadata": {},
   "outputs": [
    {
     "name": "stdout",
     "output_type": "stream",
     "text": [
      "Case 1: {blue, square}\n",
      "Prediction: ['plus']\n",
      "Case 1: {yellow, square}\n",
      "Prediction: ['plus']\n"
     ]
    }
   ],
   "source": [
    "from sklearn.naive_bayes import GaussianNB\n",
    "\n",
    "def NaiveBayesClassifier(input):\n",
    "    \n",
    "    model = GaussianNB()\n",
    "\n",
    "    \n",
    "    model.fit(combinedFeatures,labelEncoded)\n",
    "\n",
    "    \n",
    "    predicted= model.predict([input]) \n",
    "    prediction = encoder.inverse_transform(predicted)\n",
    "    print (f\"Prediction: {prediction}\")\n",
    "\n",
    "print(\"Case 1: {blue, square}\")\n",
    "NaiveBayesClassifier([0,1])\n",
    "print(\"Case 1: {yellow, square}\")\n",
    "NaiveBayesClassifier([3,1])"
   ]
  },
  {
   "cell_type": "code",
   "execution_count": null,
   "id": "1feeb8ce",
   "metadata": {},
   "outputs": [],
   "source": [
    "#CASE 2 (refer to github readMe for instructions)"
   ]
  },
  {
   "cell_type": "code",
   "execution_count": 9,
   "id": "55006f14",
   "metadata": {},
   "outputs": [
    {
     "name": "stdout",
     "output_type": "stream",
     "text": [
      "outlook Encoded: [2 2 0 1 1 1 0 2 2 1 2 0 0 1]\n",
      "temperatures Encoded: [1 1 1 2 0 0 0 2 0 2 2 2 1 2]\n",
      "decisions Encoded: [0 0 1 1 1 0 1 0 1 1 1 1 1 0]\n",
      "combined features in tuples: [(2, 1), (2, 1), (0, 1), (1, 2), (1, 0), (1, 0), (0, 0), (2, 2), (2, 0), (1, 2), (2, 2), (0, 2), (0, 1), (1, 2)]\n",
      "Case 2: {outlook=‘overcast’ and temperature=‘mild’}\n",
      "Decision: ['Yes']\n"
     ]
    }
   ],
   "source": [
    "outlook=['Sunny','Sunny','Overcast','Rainfall','Rainfall','Rainfall','Overcast','Sunny','Sunny',\n",
    "'Rainfall','Sunny','Overcast','Overcast','Rainfall']\n",
    "       \n",
    "temperature=['Hot','Hot','Hot','Mild','Cool','Cool','Cool','Mild','Cool','Mild','Mild','Mild','Hot','Mild']\n",
    "       \n",
    "decision=['No','No','Yes','Yes','Yes','No','Yes','No','Yes','Yes','Yes','Yes','Yes','No']\n",
    "\n",
    "\n",
    "encoder = preprocessing.LabelEncoder()\n",
    "\n",
    "outlookEncoded = encoder.fit_transform(outlook)\n",
    "print(f\"outlook Encoded: {outlookEncoded}\")\n",
    "temperatureEncoded = encoder.fit_transform(temperature)\n",
    "print(f\"temperatures Encoded: {temperatureEncoded}\")\n",
    "decisionEncoded = encoder.fit_transform(decision)\n",
    "print(f\"decisions Encoded: {decisionEncoded}\")\n",
    "\n",
    "combinedFeatures2 = list(zip(outlookEncoded, temperatureEncoded))\n",
    "print(f\"combined features in tuples: {combinedFeatures2}\")\n",
    "\n",
    "\n",
    "from sklearn.naive_bayes import GaussianNB\n",
    "\n",
    "def NaiveBayesClassifierB(input):\n",
    "    \n",
    "    model = GaussianNB()\n",
    "\n",
    "   \n",
    "    model.fit(combinedFeatures2,decisionEncoded)\n",
    "\n",
    "    \n",
    "    predicted= model.predict([input]) \n",
    "    prediction = encoder.inverse_transform(predicted)\n",
    "    print (f\"Decision: {prediction}\")\n",
    "\n",
    "print(\"Case 2: {outlook=‘overcast’ and temperature=‘mild’}\")\n",
    "NaiveBayesClassifierB([0,2])"
   ]
  },
  {
   "cell_type": "code",
   "execution_count": null,
   "id": "3804b09a",
   "metadata": {},
   "outputs": [],
   "source": []
  }
 ],
 "metadata": {
  "kernelspec": {
   "display_name": "Python 3",
   "language": "python",
   "name": "python3"
  },
  "language_info": {
   "codemirror_mode": {
    "name": "ipython",
    "version": 3
   },
   "file_extension": ".py",
   "mimetype": "text/x-python",
   "name": "python",
   "nbconvert_exporter": "python",
   "pygments_lexer": "ipython3",
   "version": "3.9.2"
  }
 },
 "nbformat": 4,
 "nbformat_minor": 5
}
